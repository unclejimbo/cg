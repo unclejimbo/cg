{
 "cells": [
  {
   "cell_type": "code",
   "execution_count": 7,
   "metadata": {},
   "outputs": [],
   "source": [
    "import os\n",
    "import sys\n",
    "sys.path.append(\"..\")\n",
    "from Lib.FfmpegWrapper import *\n",
    "from PIL import Image"
   ]
  },
  {
   "cell_type": "markdown",
   "metadata": {},
   "source": [
    "waiting for about six and a half minutes after running the following cell...\n",
    "\n",
    "or just ignore the following cell, display the result directly."
   ]
  },
  {
   "cell_type": "code",
   "execution_count": 8,
   "metadata": {},
   "outputs": [],
   "source": [
    "class TaskImageVideo():\n",
    "    def __init__(self):\n",
    "        self.ImageInput = '..\\\\..\\\\Output\\\\'\n",
    "        self.ImageOutput = '..\\\\..\\\\Output\\\\renamed\\\\'\n",
    "        self.VideoOutput = '..\\\\..\\\\Output\\\\video\\\\'\n",
    "        self.VideoName = 'result'\n",
    "        self.ffmpegPath = 'D:\\\\FFmpeg\\\\ffmpeg\\\\bin\\\\ffmpeg.exe'\n",
    "        \n",
    "    def Rename(self):\n",
    "        f_list = os.listdir(self.ImageInput)\n",
    "        image_list = []\n",
    "        for filename in f_list:\n",
    "            if os.path.splitext(filename)[1] == '.png':\n",
    "                image_list.append(filename)\n",
    "        for i in range(len(image_list)):\n",
    "            img = Image.open(self.ImageInput + image_list[i])\n",
    "            output_name = self.ImageOutput + 'image' + '_%03i.png' % (i)\n",
    "            img.save(output_name)\n",
    "            \n",
    "    def Png2Jpg(self):\n",
    "        f_list = os.listdir(self.ImageOutput)\n",
    "        for filename in f_list:\n",
    "            if os.path.splitext(filename)[1] == '.png':\n",
    "                img = Image.open(self.ImageOutput + filename)\n",
    "                img.convert(mode = \"RGB\")\n",
    "                img.save(self.ImageOutput + os.path.splitext(filename)[0] + '.jpg')\n",
    "                os.remove(self.ImageOutput + filename)\n",
    "                \n",
    "                \n",
    "            \n",
    "    def ProduceVideo(self):\n",
    "        ### ProduceVideo ###     \n",
    "        path = os.getcwd()\n",
    "        path = os.path.dirname(path)\n",
    "        path = os.path.dirname(path)\n",
    "        inputPath = path + \"\\\\Output\\\\renamed\"\n",
    "        outputPath = path + \"\\\\Output\\\\video\\\\\"\n",
    "        videoname = self.VideoName\n",
    "        \n",
    "        video = VideoInfo()   \n",
    "        video.SetInputDir(inputPath)\n",
    "        video.SetInputFileFormat( \"\\\\\" + \"image_%03d.png\")\n",
    "        video.SetStarFrame(\"0\")\n",
    "        video.SetOutputDir(outputPath)\n",
    "        video.SetFps(\"0.25\")\n",
    "        video.SetVideoName(videoname)\n",
    "        \n",
    "        ffProcess = Ffmpeg()\n",
    "        ffProcess.SetFfmpeg(self.ffmpegPath)\n",
    "        ffProcess.Run('produceVideo', video)\n",
    "        print(\"done!\")"
   ]
  },
  {
   "cell_type": "markdown",
   "metadata": {},
   "source": [
    "using"
   ]
  },
  {
   "cell_type": "code",
   "execution_count": 9,
   "metadata": {},
   "outputs": [
    {
     "name": "stdout",
     "output_type": "stream",
     "text": [
      "D:\\FFmpeg\\ffmpeg\\bin\\ffmpeg.exe\n",
      "done!\n"
     ]
    }
   ],
   "source": [
    "if __name__ == '__main__':\n",
    "    task = TaskImageVideo() \n",
    "    task.Rename()\n",
    "    \n",
    "    task.ProduceVideo()\n",
    "    "
   ]
  },
  {
   "cell_type": "code",
   "execution_count": null,
   "metadata": {},
   "outputs": [],
   "source": []
  }
 ],
 "metadata": {
  "kernelspec": {
   "display_name": "Python 3",
   "language": "python",
   "name": "python3"
  },
  "language_info": {
   "codemirror_mode": {
    "name": "ipython",
    "version": 3
   },
   "file_extension": ".py",
   "mimetype": "text/x-python",
   "name": "python",
   "nbconvert_exporter": "python",
   "pygments_lexer": "ipython3",
   "version": "3.6.5"
  }
 },
 "nbformat": 4,
 "nbformat_minor": 1
}
