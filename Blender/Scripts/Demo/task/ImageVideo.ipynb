{
 "cells": [
  {
   "cell_type": "code",
   "execution_count": 1,
   "metadata": {},
   "outputs": [],
   "source": [
    "import os\n",
    "import sys\n",
    "sys.path.append(\"..\")\n",
    "from PIL import Image\n",
    "import cv2"
   ]
  },
  {
   "cell_type": "markdown",
   "metadata": {},
   "source": [
    "image sequence to video"
   ]
  },
  {
   "cell_type": "code",
   "execution_count": 2,
   "metadata": {},
   "outputs": [],
   "source": [
    "class TaskImageVideo():\n",
    "    def __init__(self):\n",
    "        path = os.getcwd()\n",
    "        path = os.path.dirname(path)\n",
    "        path = os.path.dirname(path)\n",
    "        self.ImageInput = path + \"\\Output\\\\\"\n",
    "        self.PngPath = path + \"\\Output\\\\Png\\\\\"\n",
    "        self.JpgPath = path + \"\\Output\\\\Jpg\\\\\"\n",
    "        self.CropPath = path + \"\\Output\\\\Crop\\\\\"\n",
    "        self.VideoOutput = path + \"\\Output\\\\video\\\\\"\n",
    "        self.CropPath = path + \"\\Output\\\\crop\\\\\"\n",
    "        self.VideoName = 'result'\n",
    "        self.ffmpegPath = 'D:\\\\FFmpeg\\\\ffmpeg\\\\bin\\\\ffmpeg.exe'\n",
    "        self.framerate = 2\n",
    "        self.pixel_format = \"yuv420p\"\n",
    "        self.input_format = \"image_%03d.jpg\"\n",
    "        \n",
    "        if not os.path.exists(self.PngPath):\n",
    "            os.makedirs(self.PngPath)\n",
    "        if not os.path.exists(self.JpgPath):\n",
    "            os.makedirs(self.JpgPath)\n",
    "        if not os.path.exists(self.CropPath):\n",
    "            os.makedirs(self.CropPath)\n",
    "        if not os.path.exists(self.VideoOutput):\n",
    "            os.makedirs(self.VideoOutput)\n",
    "        \n",
    "        \n",
    "        \n",
    "    def Rename(self):\n",
    "        # rename \n",
    "        f_list = os.listdir(self.ImageInput)\n",
    "        idx = 0\n",
    "        for index, filename in enumerate(f_list):\n",
    "            if os.path.splitext(filename)[1] == '.png':\n",
    "                img = Image.open(self.ImageInput + filename)\n",
    "                output_name = self.PngPath + \"image_%03d\"%(idx) + \".png\"\n",
    "                img.save(output_name)\n",
    "                # os.remove(self.ImageInput + filename)\n",
    "                idx += 1\n",
    "#                 os.rename(self.ImageInput+filename, output_name)\n",
    "        \n",
    "                \n",
    "    def PreProcessing(self):\n",
    "        # rename and conver to jpg\n",
    "        f_list = os.listdir(self.PngPath)\n",
    "        for filename in f_list:\n",
    "            if os.path.splitext(filename)[1] == '.png':\n",
    "                # read image\n",
    "                img = Image.open(self.PngPath + filename)\n",
    "                # rename \n",
    "                output_name = self.JpgPath + os.path.splitext(filename)[0] + '.jpg'\n",
    "                # conver to jpg\n",
    "                img_rgb = Image.new(\"RGB\", img.size, (255,255,255))\n",
    "                img_rgb.paste(img, mask=img.split()[3])\n",
    "                img_rgb.save(output_name)\n",
    "                \n",
    "                \n",
    "    def CropImage(self):\n",
    "        # crop image/remove white background\n",
    "        # read from jpg file\n",
    "        f_list = os.listdir(self.JpgPath)\n",
    "        for filename in f_list:\n",
    "            # read image\n",
    "            img = cv2.imread(self.JpgPath + filename)\n",
    "            # convert to gray, and threshold\n",
    "            gray = cv2.cvtColor(img, cv2.COLOR_BGR2GRAY)\n",
    "            th, threshed = cv2.threshold(gray, 240, 255, cv2.THRESH_BINARY_INV)\n",
    "            # Morph-op to remove noise\n",
    "            kernel = cv2.getStructuringElement(cv2.MORPH_ELLIPSE, (11,11))\n",
    "            morphed = cv2.morphologyEx(threshed, cv2.MORPH_CLOSE, kernel)\n",
    "            # find th max-area contour\n",
    "            cnts = cv2.findContours(morphed, cv2.RETR_EXTERNAL, cv2.CHAIN_APPROX_SIMPLE)[-2]\n",
    "            cnt = sorted(cnts, key=cv2.contourArea)[-1]\n",
    "            # crop and save it\n",
    "            x,y,w,h = cv2.boundingRect(cnt)\n",
    "            dst = img[y:y+h, x:x+w]\n",
    "            cv2.imwrite(self.CropPath + filename, dst)\n",
    "                        \n",
    "    def ProduceVideo(self):\n",
    "        ### ProduceVideo ###\n",
    "        cmd = self.ffmpegPath + \" -y -r \" + str(self.framerate) + \" -i \" + \\\n",
    "              self.JpgPath + self.input_format + \" -c:v libx264\" + \\\n",
    "              \" -pix_fmt \" + self.pixel_format + \" \" + self.VideoOutput + self.VideoName + \".mp4\"\n",
    "        os.system(cmd)\n",
    "        print(\"write done\")\n"
   ]
  },
  {
   "cell_type": "markdown",
   "metadata": {},
   "source": [
    "using"
   ]
  },
  {
   "cell_type": "code",
   "execution_count": 3,
   "metadata": {},
   "outputs": [
    {
     "ename": "NameError",
     "evalue": "name 'Image' is not defined",
     "output_type": "error",
     "traceback": [
      "\u001b[1;31m---------------------------------------------------------------------------\u001b[0m",
      "\u001b[1;31mNameError\u001b[0m                                 Traceback (most recent call last)",
      "\u001b[1;32m<ipython-input-3-eeba49be2116>\u001b[0m in \u001b[0;36m<module>\u001b[1;34m\u001b[0m\n\u001b[0;32m      2\u001b[0m     \u001b[0mtask\u001b[0m \u001b[1;33m=\u001b[0m \u001b[0mTaskImageVideo\u001b[0m\u001b[1;33m(\u001b[0m\u001b[1;33m)\u001b[0m\u001b[1;33m\u001b[0m\u001b[1;33m\u001b[0m\u001b[0m\n\u001b[0;32m      3\u001b[0m     \u001b[0mtask\u001b[0m\u001b[1;33m.\u001b[0m\u001b[0mframerate\u001b[0m \u001b[1;33m=\u001b[0m \u001b[1;36m0.5\u001b[0m\u001b[1;33m\u001b[0m\u001b[1;33m\u001b[0m\u001b[0m\n\u001b[1;32m----> 4\u001b[1;33m     \u001b[0mtask\u001b[0m\u001b[1;33m.\u001b[0m\u001b[0mRename\u001b[0m\u001b[1;33m(\u001b[0m\u001b[1;33m)\u001b[0m\u001b[1;33m\u001b[0m\u001b[1;33m\u001b[0m\u001b[0m\n\u001b[0m\u001b[0;32m      5\u001b[0m     \u001b[0mtask\u001b[0m\u001b[1;33m.\u001b[0m\u001b[0mPreProcessing\u001b[0m\u001b[1;33m(\u001b[0m\u001b[1;33m)\u001b[0m\u001b[1;33m\u001b[0m\u001b[1;33m\u001b[0m\u001b[0m\n\u001b[0;32m      6\u001b[0m     \u001b[0mtask\u001b[0m\u001b[1;33m.\u001b[0m\u001b[0mCropImage\u001b[0m\u001b[1;33m(\u001b[0m\u001b[1;33m)\u001b[0m\u001b[1;33m\u001b[0m\u001b[1;33m\u001b[0m\u001b[0m\n",
      "\u001b[1;32m<ipython-input-2-a7b2c1c14ce4>\u001b[0m in \u001b[0;36mRename\u001b[1;34m(self)\u001b[0m\n\u001b[0;32m     33\u001b[0m         \u001b[1;32mfor\u001b[0m \u001b[0mindex\u001b[0m\u001b[1;33m,\u001b[0m \u001b[0mfilename\u001b[0m \u001b[1;32min\u001b[0m \u001b[0menumerate\u001b[0m\u001b[1;33m(\u001b[0m\u001b[0mf_list\u001b[0m\u001b[1;33m)\u001b[0m\u001b[1;33m:\u001b[0m\u001b[1;33m\u001b[0m\u001b[1;33m\u001b[0m\u001b[0m\n\u001b[0;32m     34\u001b[0m             \u001b[1;32mif\u001b[0m \u001b[0mos\u001b[0m\u001b[1;33m.\u001b[0m\u001b[0mpath\u001b[0m\u001b[1;33m.\u001b[0m\u001b[0msplitext\u001b[0m\u001b[1;33m(\u001b[0m\u001b[0mfilename\u001b[0m\u001b[1;33m)\u001b[0m\u001b[1;33m[\u001b[0m\u001b[1;36m1\u001b[0m\u001b[1;33m]\u001b[0m \u001b[1;33m==\u001b[0m \u001b[1;34m'.png'\u001b[0m\u001b[1;33m:\u001b[0m\u001b[1;33m\u001b[0m\u001b[1;33m\u001b[0m\u001b[0m\n\u001b[1;32m---> 35\u001b[1;33m                 \u001b[0mimg\u001b[0m \u001b[1;33m=\u001b[0m \u001b[0mImage\u001b[0m\u001b[1;33m.\u001b[0m\u001b[0mopen\u001b[0m\u001b[1;33m(\u001b[0m\u001b[0mself\u001b[0m\u001b[1;33m.\u001b[0m\u001b[0mImageInput\u001b[0m \u001b[1;33m+\u001b[0m \u001b[0mfilename\u001b[0m\u001b[1;33m)\u001b[0m\u001b[1;33m\u001b[0m\u001b[1;33m\u001b[0m\u001b[0m\n\u001b[0m\u001b[0;32m     36\u001b[0m                 \u001b[0moutput_name\u001b[0m \u001b[1;33m=\u001b[0m \u001b[0mself\u001b[0m\u001b[1;33m.\u001b[0m\u001b[0mPngPath\u001b[0m \u001b[1;33m+\u001b[0m \u001b[1;34m\"image_%03d\"\u001b[0m\u001b[1;33m%\u001b[0m\u001b[1;33m(\u001b[0m\u001b[0midx\u001b[0m\u001b[1;33m)\u001b[0m \u001b[1;33m+\u001b[0m \u001b[1;34m\".png\"\u001b[0m\u001b[1;33m\u001b[0m\u001b[1;33m\u001b[0m\u001b[0m\n\u001b[0;32m     37\u001b[0m                 \u001b[0mimg\u001b[0m\u001b[1;33m.\u001b[0m\u001b[0msave\u001b[0m\u001b[1;33m(\u001b[0m\u001b[0moutput_name\u001b[0m\u001b[1;33m)\u001b[0m\u001b[1;33m\u001b[0m\u001b[1;33m\u001b[0m\u001b[0m\n",
      "\u001b[1;31mNameError\u001b[0m: name 'Image' is not defined"
     ]
    }
   ],
   "source": [
    "if __name__ == '__main__':\n",
    "    task = TaskImageVideo() \n",
    "    task.framerate = 0.5\n",
    "    task.Rename()\n",
    "    task.PreProcessing()\n",
    "    task.CropImage()\n",
    "    task.ProduceVideo()"
   ]
  },
  {
   "cell_type": "code",
   "execution_count": null,
   "metadata": {},
   "outputs": [],
   "source": []
  }
 ],
 "metadata": {
  "kernelspec": {
   "display_name": "Python 3",
   "language": "python",
   "name": "python3"
  },
  "language_info": {
   "codemirror_mode": {
    "name": "ipython",
    "version": 3
   },
   "file_extension": ".py",
   "mimetype": "text/x-python",
   "name": "python",
   "nbconvert_exporter": "python",
   "pygments_lexer": "ipython3",
   "version": "3.6.5"
  }
 },
 "nbformat": 4,
 "nbformat_minor": 1
}
