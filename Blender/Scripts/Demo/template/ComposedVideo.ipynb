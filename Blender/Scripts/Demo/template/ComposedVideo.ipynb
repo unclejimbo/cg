{
 "cells": [
  {
   "cell_type": "code",
   "execution_count": 17,
   "metadata": {},
   "outputs": [],
   "source": [
    "import os\n",
    "import sys\n",
    "sys.path.append(\"..\")\n",
    "from Lib.RenderScene import RenderScene\n",
    "from Lib.ConfigClass import Config\n",
    "from Lib.ImageVideo import TaskImageVideo\n",
    "from Lib.email_sender import Email\n",
    "from IPython.display import display,Video\n",
    "import imageio\n",
    "import datetime\n",
    "import socket\n",
    "import json\n",
    "import getpass"
   ]
  },
  {
   "cell_type": "code",
   "execution_count": null,
   "metadata": {},
   "outputs": [],
   "source": [
    "def generate_email_content(email, image_path, video_path):\n",
    "    email.mail_content = \"Composed Video\"\n",
    "    email.image_path = image_path\n",
    "    email.video_path = video_path\n",
    "    return email"
   ]
  },
  {
   "cell_type": "markdown",
   "metadata": {},
   "source": [
    "# Composed Video"
   ]
  },
  {
   "cell_type": "code",
   "execution_count": null,
   "metadata": {},
   "outputs": [],
   "source": [
    "email = Email()\n",
    "email.password = \"\"\n",
    "email.receiver = \"\"\n",
    "\n",
    "input_list = [\"genus1\", \"genus2\", \"genus3\", \"genus4\", \"genus5\", \"genus5+\"]\n",
    "\n",
    "task = TaskImageVideo()\n",
    "task.framerate = 0.5\n",
    "task.ffmpegPath = \"ffmpeg\"\n",
    "\n",
    "prefix1 = \"/pub/data/zhaoc/Output/Models/20191218/linesxy_u_only/\"\n",
    "prefix2 = \"/pub/data/zhaoc/Output/Models/linesxy_u_only/unconstrained/\"\n",
    "output = \"/home/zhaoc/cg/Blender/Output/ComposedVideo/\"\n",
    "for genus in input_list:\n",
    "    task.ImageInput = prefix1 + genus + \"/\"\n",
    "    task.Rename()\n",
    "    task.ImageInput = prefix2 + genus + \"/\"\n",
    "    task.Rename()\n",
    "    \n",
    "    task.ProduceCompositeVideo(prefix1 + genus + \"/Jpg2/\",\n",
    "                          prefix2 + genus + \"/Jpg2/\",\n",
    "                          output + genus + \"/\")\n",
    "    \n",
    "    video_path = output + genus + \"/\" + task.VideoName + \".mp4\"\n",
    "    display(Video(video_path, width=600, height=600))\n",
    "    \n",
    "email = generate_email_content(email, output + genus + \"/image_000.jpg\", output + genus + \"/\" + task.VideoName + \".mp4\")\n",
    "email.send_email()"
   ]
  },
  {
   "cell_type": "code",
   "execution_count": null,
   "metadata": {},
   "outputs": [],
   "source": []
  },
  {
   "cell_type": "code",
   "execution_count": null,
   "metadata": {},
   "outputs": [],
   "source": []
  },
  {
   "cell_type": "code",
   "execution_count": null,
   "metadata": {},
   "outputs": [],
   "source": []
  },
  {
   "cell_type": "code",
   "execution_count": null,
   "metadata": {},
   "outputs": [],
   "source": []
  },
  {
   "cell_type": "code",
   "execution_count": null,
   "metadata": {},
   "outputs": [],
   "source": []
  }
 ],
 "metadata": {
  "kernelspec": {
   "display_name": "Python 3",
   "language": "python",
   "name": "python3"
  },
  "language_info": {
   "codemirror_mode": {
    "name": "ipython",
    "version": 3
   },
   "file_extension": ".py",
   "mimetype": "text/x-python",
   "name": "python",
   "nbconvert_exporter": "python",
   "pygments_lexer": "ipython3",
   "version": "3.6.5"
  }
 },
 "nbformat": 4,
 "nbformat_minor": 1
}
