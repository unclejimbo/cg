{
 "cells": [
  {
   "cell_type": "code",
   "execution_count": 11,
   "metadata": {},
   "outputs": [],
   "source": [
    "import os\n",
    "import sys\n",
    "sys.path.append(\"..\")\n",
    "from Lib.RenderScene import RenderScene\n",
    "from Lib.ConfigClass import Config\n",
    "from Lib.ImageVideo import TaskImageVideo\n",
    "from IPython.display import display,Video\n",
    "import imageio\n",
    "from Lib.email_sender import Email\n",
    "import datetime\n",
    "import socket\n",
    "import json\n",
    "import getpass"
   ]
  },
  {
   "cell_type": "code",
   "execution_count": null,
   "metadata": {},
   "outputs": [],
   "source": [
    "%%javascript\n",
    "IPython.notebook.kernel.execute('nb_name = \"' + IPython.notebook.notebook_name + '\"')"
   ]
  },
  {
   "cell_type": "code",
   "execution_count": null,
   "metadata": {},
   "outputs": [],
   "source": [
    "scene_name = \"eight\"\n",
    "config_save_path = \"./config_animation.json\"\n",
    "\n",
    "start_time = datetime.datetime.now()\n",
    "print(start_time)"
   ]
  },
  {
   "cell_type": "markdown",
   "metadata": {},
   "source": [
    "# Some basic settings"
   ]
  },
  {
   "cell_type": "code",
   "execution_count": 12,
   "metadata": {},
   "outputs": [],
   "source": [
    "task = TaskImageVideo() \n",
    "task.framerate = 48\n",
    "\n",
    "\n",
    "# path = os.getcwd()\n",
    "# path = os.path.dirname(path)\n",
    "# path = os.path.dirname(path)\n",
    "path = \"/pub/data/zhaoc\"\n",
    "\n",
    "config = Config()\n",
    "config.width = 200\n",
    "config.height = 150\n",
    "\n",
    "email = Email()\n",
    "email.password = \"\"\n",
    "email.receiver = \"\"\n",
    "\n",
    "config.show_singular_face = False\n",
    "config.show_loops = False\n",
    "config.cut_mode = \"Segment\"\n",
    "config.show_singularity = True\n",
    "config.use_envmap = True\n",
    "config.material = \"original\"\n",
    "config.material_filename = None\n",
    "config.scene = scene_name\n",
    "\n",
    "config.animation_output = path\n",
    "\n",
    "# set a scene if you want\n",
    "# config.scene_path = \"\"\n",
    "\n",
    "config.background_render = True\n",
    "\n",
    "# config.mode = \"predefined\"\n",
    "# config.material = None\n",
    "config.save_config(config_save_path)\n",
    "\n",
    "\n",
    "RenderScene = RenderScene()\n",
    "RenderScene.background_render = True\n",
    "\n",
    "\n",
    "# Change RenderScene.config_path if you want\n",
    "RenderScene.config_path = config_save_path\n",
    "\n",
    "\n",
    "# reset path in new environment\n",
    "# RenderScene.blender_path = \"D:/tools/blender_2.81/blender.exe\"\n",
    "# task.ffmpegPath = 'D://FFmpeg/ffmpeg/bin/ffmpeg.exe'\n",
    "\n",
    "RenderScene.blender_path = \"/home/zhaoc/blender/blender_2.81/blender\"\n",
    "task.ffmpegPath = \"ffmpeg\"\n"
   ]
  },
  {
   "cell_type": "code",
   "execution_count": null,
   "metadata": {},
   "outputs": [],
   "source": [
    "# this function is used for building emails\n",
    "\n",
    "def generate_email_content(email, time, axis):\n",
    "    email.mail_content = \"Current User: \" + getpass.getuser() + \"\\n\" + \\\n",
    "    \"Input scene: \" + config.scene_path + '\\n' + \"Output path: \" + path + \\\n",
    "    \"/Output/\" + scene_name + \"/Rotation/\" + axis + \"/\" + \"\\n\" + \"GenusNumber: \" + \"0\" + \\\n",
    "    \"\\n\" + \"SceneNumber: \" + \"1\" + \"\\n\" + \"Start Time: \" + str(start_time) + \\\n",
    "    \"\\n\" + \"End Time: \" + str(datetime.datetime.now()) + \\\n",
    "    \"\\n\" + \"Time Cost: \" + str((time - start_time)).split('.')[0] + \\\n",
    "    \"\\n\" + \"Time Cost Cell: \" + str((time - cell_start_time)).split('.')[0] + \"\\n\" + \\\n",
    "    \"Current Filename: \" + nb_name + \"\\n\" + \"Current IP: \" + socket.gethostbyname(socket.gethostname()) + \\\n",
    "    \"\\n\" + \"Config: \" + \"\\n\" + str(json.dumps(config.__dict__,  sort_keys=True, indent=2)) + \\\n",
    "    \"\\n\" + \"Model Name: \" + config.scene_path\n",
    "\n",
    "    email.image_path = path + \"/Output/\" + scene_name + \"/Rotation/\" + axis + \"/Jpg/\" + config.object_name.split('.')[0] + \"_rotation_000.jpg\" \n",
    "    email.video_path = \"../../Output/\" + scene_name + \"/Rotation/\" + axis + \"/video/result.mp4\"\n",
    "    return email\n"
   ]
  },
  {
   "cell_type": "markdown",
   "metadata": {},
   "source": [
    "# rotation Z"
   ]
  },
  {
   "cell_type": "code",
   "execution_count": 3,
   "metadata": {},
   "outputs": [
    {
     "name": "stdout",
     "output_type": "stream",
     "text": [
      "start rendering...\n",
      "done!\n"
     ]
    }
   ],
   "source": [
    "cell_start_time = datetime.datetime.now()\n",
    "\n",
    "config.mode = \"rotation\"\n",
    "config.rotation_start = 0\n",
    "config.rotation_end = 361\n",
    "config.rotation_step = 1\n",
    "config.rotation_axis = \"Z\"\n",
    "config.save_config(config_save_path)\n",
    "RenderScene.render()"
   ]
  },
  {
   "cell_type": "markdown",
   "metadata": {},
   "source": [
    "# rotation Z video"
   ]
  },
  {
   "cell_type": "code",
   "execution_count": 13,
   "metadata": {},
   "outputs": [
    {
     "name": "stdout",
     "output_type": "stream",
     "text": [
      "write done\n"
     ]
    },
    {
     "data": {
      "text/html": [
       "<video src=\"../../Output/eight/Rotation/Z/video/result.mp4\" controls  width=\"600\"  height=\"600\">\n",
       "      Your browser does not support the <code>video</code> element.\n",
       "    </video>"
      ],
      "text/plain": [
       "<IPython.core.display.Video object>"
      ]
     },
     "metadata": {},
     "output_type": "display_data"
    }
   ],
   "source": [
    "output = path + \"/Output/\" + scene_name + \"/Rotation/Z/\"\n",
    "\n",
    "task.ImageInput = output\n",
    "task.PngPath = output\n",
    "task.JpgPath = output + \"Jpg/\"\n",
    "if not os.path.exists(task.JpgPath):\n",
    "    os.makedirs(task.JpgPath)\n",
    "    \n",
    "task.CropPath = output + \"Crop/\"\n",
    "if not os.path.exists(task.CropPath):\n",
    "    os.makedirs(task.CropPath)\n",
    "    \n",
    "task.input_format = config.object_name.split('.')[0]+\"_rotation_%03d.jpg\"\n",
    "\n",
    "task.PngPath = output\n",
    "task.PreProcessing()\n",
    "task.CropImage()\n",
    "task.ProduceVideo()\n",
    "\n",
    "# save another video\n",
    "task.ImageInput = \"../../Output/\" + scene_name + \"/Rotation/Z/\"\n",
    "task.ProduceVideo()\n",
    "\n",
    "video_path = \"../../Output/\"+ scene_name + \"/Rotation/Z/\" + \"video/result.mp4\"\n",
    "display(Video(video_path, width=600, height = 600))\n",
    "\n",
    "\n",
    "\n",
    "rotation_z_time = datetime.datetime.now()\n",
    "\n",
    "\n",
    "email = generate_email_content(email, rotation_z_time, \"Z\")\n",
    "email.send_email()"
   ]
  },
  {
   "cell_type": "markdown",
   "metadata": {},
   "source": [
    "# rotation Y"
   ]
  },
  {
   "cell_type": "code",
   "execution_count": null,
   "metadata": {},
   "outputs": [
    {
     "name": "stdout",
     "output_type": "stream",
     "text": [
      "start rendering...\n"
     ]
    }
   ],
   "source": [
    "cell_start_time = datetime.datetime.now()\n",
    "\n",
    "config.mode = \"rotation\"\n",
    "config.rotation_start = 0\n",
    "config.rotation_end = 361\n",
    "config.rotation_step = 1\n",
    "config.rotation_axis = \"Y\"\n",
    "config.save_config(config_save_path)\n",
    "RenderScene.render()"
   ]
  },
  {
   "cell_type": "markdown",
   "metadata": {},
   "source": [
    "# rotation Y video"
   ]
  },
  {
   "cell_type": "code",
   "execution_count": null,
   "metadata": {},
   "outputs": [],
   "source": [
    "output = path + \"/Output/\" + scene_name + \"/Rotation/Y/\"\n",
    "\n",
    "task.ImageInput = output\n",
    "task.PngPath = output\n",
    "task.JpgPath = output + \"Jpg/\"\n",
    "if not os.path.exists(task.JpgPath):\n",
    "    os.makedirs(task.JpgPath)\n",
    "    \n",
    "task.CropPath = output + \"Crop/\"\n",
    "if not os.path.exists(task.CropPath):\n",
    "    os.makedirs(task.CropPath)\n",
    "    \n",
    "task.input_format = config.object_name.split('.')[0]+\"_rotation_%03d.jpg\"\n",
    "\n",
    "task.PngPath = output\n",
    "task.PreProcessing()\n",
    "task.CropImage()\n",
    "task.ProduceVideo()\n",
    "\n",
    "# save another video\n",
    "task.ImageInput = \"../../Output/\" + scene_name + \"/Rotation/Y/\"\n",
    "task.ProduceVideo()\n",
    "\n",
    "video_path = \"../../Output/\"+ scene_name + \"/Rotation/Y/\" + \"video/result.mp4\"\n",
    "display(Video(video_path, width=600, height = 600))\n",
    "\n",
    "\n",
    "rotation_y_time = datetime.datetime.now()\n",
    "\n",
    "\n",
    "email = generate_email_content(email, rotation_y_time, \"Y\")\n",
    "email.send_email()"
   ]
  },
  {
   "cell_type": "markdown",
   "metadata": {},
   "source": [
    "# rotation X"
   ]
  },
  {
   "cell_type": "code",
   "execution_count": null,
   "metadata": {},
   "outputs": [
    {
     "name": "stdout",
     "output_type": "stream",
     "text": [
      "start rendering...\n"
     ]
    }
   ],
   "source": [
    "cell_start_time = datetime.datetime.now()\n",
    "\n",
    "config.mode = \"rotation\"\n",
    "config.rotation_start = 0\n",
    "config.rotation_end = 361\n",
    "config.rotation_step = 1\n",
    "config.rotation_axis = \"X\"\n",
    "config.save_config(config_save_path)\n",
    "RenderScene.render()"
   ]
  },
  {
   "cell_type": "markdown",
   "metadata": {},
   "source": [
    "# rotation X video"
   ]
  },
  {
   "cell_type": "code",
   "execution_count": null,
   "metadata": {},
   "outputs": [],
   "source": [
    "output = path + \"/Output/\" + scene_name + \"/Rotation/X/\"\n",
    "\n",
    "task.ImageInput = output\n",
    "task.PngPath = output\n",
    "task.JpgPath = output + \"Jpg/\"\n",
    "if not os.path.exists(task.JpgPath):\n",
    "    os.makedirs(task.JpgPath)\n",
    "    \n",
    "task.CropPath = output + \"Crop/\"\n",
    "if not os.path.exists(task.CropPath):\n",
    "    os.makedirs(task.CropPath)\n",
    "    \n",
    "task.input_format = config.object_name.split('.')[0]+\"_rotation_%03d.jpg\"\n",
    "\n",
    "task.PngPath = output\n",
    "task.PreProcessing()\n",
    "task.CropImage()\n",
    "task.ProduceVideo()\n",
    "\n",
    "# save another video\n",
    "task.ImageInput = \"../../Output/\" + scene_name + \"/Rotation/X/\"\n",
    "task.ProduceVideo()\n",
    "\n",
    "video_path = \"../../Output/\"+ scene_name + \"/Rotation/X/\" + \"video/result.mp4\"\n",
    "display(Video(video_path, width=600, height = 600))\n",
    "\n",
    "\n",
    "rotation_x_time = datetime.datetime.now()\n",
    "\n",
    "\n",
    "email = generate_email_content(email, rotation_x_time, \"X\")\n",
    "email.send_email()"
   ]
  }
 ],
 "metadata": {
  "kernelspec": {
   "display_name": "Python 3",
   "language": "python",
   "name": "python3"
  },
  "language_info": {
   "codemirror_mode": {
    "name": "ipython",
    "version": 3
   },
   "file_extension": ".py",
   "mimetype": "text/x-python",
   "name": "python",
   "nbconvert_exporter": "python",
   "pygments_lexer": "ipython3",
   "version": "3.6.5"
  }
 },
 "nbformat": 4,
 "nbformat_minor": 1
}
